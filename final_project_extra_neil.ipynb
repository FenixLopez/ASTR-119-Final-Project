{
 "cells": [
  {
   "cell_type": "markdown",
   "id": "832fac47",
   "metadata": {},
   "source": [
    "# Extra credit attempt by Neil "
   ]
  },
  {
   "cell_type": "code",
   "execution_count": null,
   "id": "87482085",
   "metadata": {},
   "outputs": [],
   "source": [
    "# additional setup for reading the test image and displaying plots\n",
    "import astropy\n",
    "#from astropy.io import fits\n",
    "import matplotlib.pyplot as plt\n",
    "from matplotlib import rcParams\n",
    "from astropy.io import fits\n",
    "import numpy as np\n",
    "import sep\n",
    "import matplotlib.colors as colors\n",
    "%matplotlib inline\n",
    "\n",
    "rcParams['figure.figsize'] = [10., 8.]"
   ]
  },
  {
   "cell_type": "code",
   "execution_count": null,
   "id": "d4458f4f",
   "metadata": {},
   "outputs": [],
   "source": [
    "f3_name = \"hlsp_hudf12_hst_wfc3ir_udfmain_f160w_v1.0_drz.fits\"\n",
    "#hdu_list = fits.open(f3_name)\n",
    "#hdu_list.info\n",
    "#image_data = hdu_list[0].data\n",
    "#print(image_data.shape)\n",
    "#data.info()\n",
    "\n",
    "\n",
    "image3_data = fits.open(f3_name)[0].data\n",
    "image3_data = image3_data.byteswap(inplace=True).newbyteorder()\n",
    "#d3 = np.reshape(image3_data, (3600,3600))\n",
    "\n",
    "fits.open(f3_name).info()\n",
    "#print(hdu_list[0].header)\n",
    "#print(hdu_list[0].data)\n",
    "#print(image_data)\n",
    "print(type(image3_data))\n",
    "print(image3_data.shape)"
   ]
  },
  {
   "cell_type": "code",
   "execution_count": null,
   "id": "4d2452e2",
   "metadata": {},
   "outputs": [],
   "source": [
    "f2_name = \"hlsp_hudf12_hst_wfc3ir_udfmain_f125w_v1.0_drz.fits\"\n",
    "image2_data = fits.open(f2_name)[0].data\n",
    "image2_data = image2_data.byteswap(inplace=True).newbyteorder()\n",
    "#fits.open(f2_name).info()\n",
    "#print(fits.open(f2_name)[0].header)\n",
    "print(image2_data)\n",
    "print(image2_data.min())"
   ]
  },
  {
   "cell_type": "code",
   "execution_count": null,
   "id": "54ada9dd",
   "metadata": {},
   "outputs": [],
   "source": [
    "f1_name = \"hlsp_hudf12_hst_wfc3ir_udfmain_f105w_v1.0_drz.fits\"\n",
    "image1_data = fits.open(f1_name)[0].data\n",
    "image1_data = image1_data.byteswap(inplace=True).newbyteorder()\n",
    "\n",
    "#print(fits.open(f1_name)[0].header)\n"
   ]
  },
  {
   "cell_type": "code",
   "execution_count": null,
   "id": "6189d3d3",
   "metadata": {},
   "outputs": [],
   "source": [
    "\n",
    "# show the image\n",
    "m, s = np.mean(image3_data), np.std(image3_data)\n",
    "\n",
    "\n",
    "plt.imshow(image3_data, interpolation='nearest',  vmin=m-s, vmax=m+s,origin='lower')\n",
    "plt.colorbar();\n",
    "#plt.savefig('carpet.png', bbox_inches=\"tight\", dpi=600)"
   ]
  },
  {
   "cell_type": "code",
   "execution_count": null,
   "id": "00fce230",
   "metadata": {},
   "outputs": [],
   "source": [
    "#d_log = np.log10(d3)\n",
    "#plt.imshow(d_log)"
   ]
  },
  {
   "cell_type": "code",
   "execution_count": null,
   "id": "fc3d7bb8",
   "metadata": {},
   "outputs": [],
   "source": [
    "\n",
    "# show the image\n",
    "m, s = np.mean(image2_data), np.std(image2_data)\n",
    "\n",
    "\n",
    "plt.imshow(image2_data, interpolation='nearest',  vmin=m-s, vmax=m+s,origin='lower')\n",
    "plt.colorbar();\n",
    "#plt.savefig('tutorial_original_img.png', bbox_inches=\"tight\", dpi=600)"
   ]
  },
  {
   "cell_type": "code",
   "execution_count": null,
   "id": "613a424f",
   "metadata": {},
   "outputs": [],
   "source": [
    "\n",
    "# show the image\n",
    "m, s = np.mean(image1_data), np.std(image1_data)\n",
    "\n",
    "\n",
    "plt.imshow(image1_data, interpolation='nearest',  vmin=m-s, vmax=m+s,origin='lower')\n",
    "plt.colorbar();\n",
    "#plt.savefig('tutorial_original_img.png', bbox_inches=\"tight\", dpi=600)"
   ]
  },
  {
   "cell_type": "code",
   "execution_count": null,
   "id": "6ef585ee",
   "metadata": {
    "scrolled": true
   },
   "outputs": [],
   "source": [
    "#m, s = np.mean(image1_data), np.std(image1_data)\n",
    "#d1_log = np.log10(image1_data) \n",
    "#plt.imshow(d1_log, interpolation='nearest',  vmin=m-s, vmax=m+s,origin='lower')"
   ]
  },
  {
   "cell_type": "code",
   "execution_count": null,
   "id": "f77fb59b",
   "metadata": {},
   "outputs": [],
   "source": [
    "bkg_1 = sep.Background(image1_data)\n",
    "bkg_2 = sep.Background(image2_data)\n",
    "bkg_3 = sep.Background(image3_data)\n",
    "\n",
    "data_sub1 = image1_data - bkg_1\n",
    "data_sub2 = image2_data - bkg_2\n",
    "data_sub3 = image3_data - bkg_3\n",
    "\n",
    "print(data_sub1)\n",
    "print(type(data_sub1))\n",
    "print(data_sub1.min())\n",
    "#print(data_sub3)"
   ]
  },
  {
   "cell_type": "code",
   "execution_count": null,
   "id": "cde28bd7",
   "metadata": {},
   "outputs": [],
   "source": [
    "#log_d1 = np.log10(data_sub1)\n",
    "#print(log_d1)"
   ]
  },
  {
   "cell_type": "code",
   "execution_count": null,
   "id": "cab90e0d",
   "metadata": {},
   "outputs": [],
   "source": [
    "#d1_min = data_sub1.min()\n",
    "#print(min(data_sub1)\n",
    "#d1_max = data_sub1.max()\n",
    "\n",
    "#v = (data_sub1 - d1_min)/(d1_max - d1_min)\n",
    "\n",
    "#print(d1_min)\n",
    "#print(min(data_sub1))"
   ]
  },
  {
   "cell_type": "code",
   "execution_count": null,
   "id": "0a55a3e6",
   "metadata": {},
   "outputs": [],
   "source": [
    "d1_min = image1_data.min()\n",
    "d1_max = image1_data.max()\n",
    "\n",
    "v = (image1_data - d1_min)/(d1_max - d1_min)"
   ]
  },
  {
   "cell_type": "code",
   "execution_count": null,
   "id": "ed315e98",
   "metadata": {},
   "outputs": [],
   "source": [
    "d2_min = image2_data.min()\n",
    "print(d2_min)\n",
    "print(image2_data)\n",
    "d2_max = image2_data.max()\n",
    "\n",
    "s = 1 - (image2_data - d2_min)/(d2_max - d2_min)"
   ]
  },
  {
   "cell_type": "code",
   "execution_count": null,
   "id": "ef833e2a",
   "metadata": {},
   "outputs": [],
   "source": [
    "d3_min = image3_data.min()\n",
    "print(d3_min)\n",
    "d3_max = image3_data.max()\n",
    "\n",
    "h = 0.8 - 0.2*(image3_data - d3_min)/(d3_max - d3_min)\n",
    "print(h)\n",
    "print(h.min())"
   ]
  },
  {
   "cell_type": "code",
   "execution_count": null,
   "id": "80409506",
   "metadata": {},
   "outputs": [],
   "source": [
    "f,ax = plt.subplots(1,3, figsize=(14,7))\n",
    "ax[0].imshow(v)\n",
    "ax[1].imshow(h)\n",
    "ax[2].imshow(s)\n"
   ]
  },
  {
   "cell_type": "code",
   "execution_count": null,
   "id": "f5cea540",
   "metadata": {},
   "outputs": [],
   "source": [
    "hsv_image = np.zeros((3600, 3600, 3))\n",
    "\n",
    "hsv_image[:,:,0] = h\n",
    "hsv_image[:,:,1] = s\n",
    "hsv_image[:,:,2] = v\n",
    "\n",
    "rgb_image = colors.hsv_to_rgb(hsv_image)"
   ]
  },
  {
   "cell_type": "code",
   "execution_count": null,
   "id": "12c73b8e",
   "metadata": {},
   "outputs": [],
   "source": [
    "plt.imshow(rgb_image)"
   ]
  },
  {
   "cell_type": "code",
   "execution_count": null,
   "id": "51c57190",
   "metadata": {},
   "outputs": [],
   "source": []
  }
 ],
 "metadata": {
  "kernelspec": {
   "display_name": "Python 3 (ipykernel)",
   "language": "python",
   "name": "python3"
  },
  "language_info": {
   "codemirror_mode": {
    "name": "ipython",
    "version": 3
   },
   "file_extension": ".py",
   "mimetype": "text/x-python",
   "name": "python",
   "nbconvert_exporter": "python",
   "pygments_lexer": "ipython3",
   "version": "3.8.8"
  }
 },
 "nbformat": 4,
 "nbformat_minor": 5
}

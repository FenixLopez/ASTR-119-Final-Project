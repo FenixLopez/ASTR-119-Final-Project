{
 "cells": [
  {
   "cell_type": "markdown",
   "id": "5d951777",
   "metadata": {},
   "source": [
    "This tutorial is modified from: https://sep.readthedocs.io/en/v1.0.x/tutorial.html\n",
    "\n",
    "Reminder - comment out pngs if not currently looking to save!!!\n",
    "\n",
    "12/2/21: Fenix cloned tutorial code and changed file name to \"hlsp_hudf12_hst_wfc3ir_udfmain_f105w_v1.0_drz.fits\" "
   ]
  },
  {
   "cell_type": "code",
   "execution_count": null,
   "id": "b77510d2",
   "metadata": {},
   "outputs": [],
   "source": [
    "import numpy as np\n",
    "import sep"
   ]
  },
  {
   "cell_type": "code",
   "execution_count": null,
   "id": "10d562a7",
   "metadata": {},
   "outputs": [],
   "source": [
    "# additional setup for reading the test image and displaying plots\n",
    "import astropy\n",
    "from astropy.io import fits\n",
    "import matplotlib.pyplot as plt\n",
    "from matplotlib import rcParams\n",
    "\n",
    "%matplotlib inline\n",
    "\n",
    "rcParams['figure.figsize'] = [10., 8.]"
   ]
  },
  {
   "cell_type": "code",
   "execution_count": null,
   "id": "76e20611",
   "metadata": {},
   "outputs": [],
   "source": [
    "hdu_list = fits.open(\"hlsp_hudf12_hst_wfc3ir_udfmain_f105w_v1.0_drz.fits\")\n",
    "hdu_list.info()\n",
    "print(hdu_list[0].header)\n",
    "\n",
    "\n",
    "image_data = hdu_list[0].data\n",
    "\n",
    "#necessary to reorder the array when using SEP!!!\n",
    "image_data = image_data.byteswap().newbyteorder()\n",
    "\n",
    "print(image_data.shape)\n",
    "\n",
    "# show the image\n",
    "m, s = np.mean(image_data), np.std(image_data)\n",
    "plt.imshow(image_data, interpolation='nearest', cmap='gray', vmin=m-s, vmax=m+s, origin='lower')\n",
    "plt.colorbar();\n",
    "\n",
    "#Saving the original image plot as a png\n",
    "#plt.savefig('tutorial_img_1.png',bbox_inches=\"tight\",dpi=600)\n",
    "\n",
    "#looking for zeropoint in the wide field camera 3\n",
    "#zero point for wfc3 in 3012 - 26.2687\n",
    "#https://www.stsci.edu/hst/instrumentation/wfc3/data-analysis/photometric-calibration/ir-photometric-calibration"
   ]
  },
  {
   "cell_type": "code",
   "execution_count": null,
   "id": "71f2897e",
   "metadata": {},
   "outputs": [],
   "source": [
    "#different color for funsies\n",
    "plt.imshow(image_data, interpolation='nearest', cmap='cividis', vmin=m-s, vmax=m+s, origin='lower')\n",
    "plt.colorbar();"
   ]
  },
  {
   "cell_type": "markdown",
   "id": "a33e1127",
   "metadata": {},
   "source": [
    "# Background subtraction"
   ]
  },
  {
   "cell_type": "code",
   "execution_count": null,
   "id": "bcca4282",
   "metadata": {},
   "outputs": [],
   "source": [
    "# measure a spatially varying background on the image\n",
    "\n",
    "bkg = sep.Background(image_data)\n"
   ]
  },
  {
   "cell_type": "code",
   "execution_count": null,
   "id": "73d50add",
   "metadata": {},
   "outputs": [],
   "source": [
    "# get a \"global\" mean and noise of the image background:\n",
    "print(bkg.globalback)\n",
    "print(bkg.globalrms)"
   ]
  },
  {
   "cell_type": "code",
   "execution_count": null,
   "id": "ee5afdc8",
   "metadata": {},
   "outputs": [],
   "source": [
    "# evaluate background as 2-d array, same size as original image\n",
    "bkg_image = bkg.back()\n",
    "#len(bkg_image)\n",
    "# bkg_image = np.array(bkg) # equivalent to above"
   ]
  },
  {
   "cell_type": "code",
   "execution_count": null,
   "id": "b3efb404",
   "metadata": {},
   "outputs": [],
   "source": [
    "# show the background\n",
    "plt.imshow(bkg_image, interpolation='nearest', cmap='gray', origin='lower')\n",
    "plt.colorbar();\n",
    "\n",
    "#Saving the background plot as a png\n",
    "#plt.savefig('tutorial_img_2.png',bbox_inches=\"tight\",dpi=600)"
   ]
  },
  {
   "cell_type": "markdown",
   "id": "c2d56083",
   "metadata": {},
   "source": [
    "## Mark down/comments for cells 9-18 - Fenix"
   ]
  },
  {
   "cell_type": "markdown",
   "id": "b2ca5eea",
   "metadata": {},
   "source": [
    "The .rms member function the SEP background object (denoted as 'bkg' and initialized in cell 5) evaluates on the background as a 2d array and computes the root-mean-squared, or standard deviation, for each element(or pixel). It then creates a new array (equal in size to bkg) containing these calculations. "
   ]
  },
  {
   "cell_type": "code",
   "execution_count": null,
   "id": "57b6fc2e",
   "metadata": {},
   "outputs": [],
   "source": [
    "# evaluate the background noise as 2-d array, same size as original image\n",
    "bkg_rms = bkg.rms()\n",
    "\n",
    "#Printing to confirm image and noise are in same sized arrays\n",
    "print(\"Length of bkg_image: \",len(bkg_image))\n",
    "print(\"Length of bkg_rms: \",len(bkg_rms))"
   ]
  },
  {
   "cell_type": "markdown",
   "id": "5e5a5e6a",
   "metadata": {},
   "source": [
    "This cell plots the previously calculated standard deviation, or optical noise, of the background, pixel by pixel. This noise is normally attributed to the electronic noise of physical instrumentation/cameras used and the surrounding light pollution from when the image was taken."
   ]
  },
  {
   "cell_type": "code",
   "execution_count": null,
   "id": "a39fbc5c",
   "metadata": {},
   "outputs": [],
   "source": [
    "# show the background noise\n",
    "\n",
    "#interpolation='nearest' makes sure that the pixels are plotted individually and \n",
    "#not artificially adjusted to increase the resolution of the display\n",
    "#cmap='gray' colors the plot as a grayscale color scheme\n",
    "#origin='lower' tells the plotting of data to begin from the bottom left\n",
    "plt.imshow(bkg_rms, interpolation='nearest', cmap='gray', origin='lower')\n",
    "\n",
    "#this plots the color bar alongside the noise plot\n",
    "#based on the color scheme chosen, rms values below 62 are shown as black\n",
    "#rms values above 68 are white\n",
    "#rms values between 62-68 are on a grayscale that lightens as the values increase\n",
    "plt.colorbar();\n",
    "\n",
    "#Saving the background noise plot as a png\n",
    "#plt.savefig('tutorial_img_3.png',bbox_inches=\"tight\",dpi=600)"
   ]
  },
  {
   "cell_type": "markdown",
   "id": "c3692137",
   "metadata": {},
   "source": [
    "This cell removes the background value from each pixel in the original image. This makes it easier in the future to determine a threshold value that will determine what is considered an object and what was simply empty space in the image. This can be thought of an an array being subtracted from another of equal size. "
   ]
  },
  {
   "cell_type": "code",
   "execution_count": null,
   "id": "3d28d132",
   "metadata": {},
   "outputs": [],
   "source": [
    "# subtract the background\n",
    "data_sub = image_data - bkg"
   ]
  },
  {
   "cell_type": "markdown",
   "id": "91144700",
   "metadata": {},
   "source": [
    "# Object detection"
   ]
  },
  {
   "cell_type": "markdown",
   "id": "95606cf9",
   "metadata": {},
   "source": [
    "The extract function uses numerous parameters to detect objects within an image. The general form (found on https://sep.readthedocs.io/en/v1.0.x/api/sep.extract.html) is: \n",
    "\n",
    "sep.extract(data, thresh, err=None, mask=None, minarea=5, filter_kernel=default_kernel, filter_type='matched', deblend_nthresh=32, deblend_cont=0.005, clean=True, clean_param=1.0, segmentation_map=False)"
   ]
  },
  {
   "cell_type": "code",
   "execution_count": null,
   "id": "638d3a8b",
   "metadata": {},
   "outputs": [],
   "source": [
    "#Matching parameters to the general form:\n",
    "    #data_sub is the array of the background-subtracted image. This is the array\n",
    "        #that \"extract\" will operate on\n",
    "    #1.5 is the float threshold value we will multiply by the error.\n",
    "    #err=bkg.globalrms is a float and the \"global\" noise of the image background\n",
    "    #Several more parameters can be added to create a more specialized search.\n",
    "    \n",
    "#The function expect will compare each element in data_sub to 1.5err. A pixel above the \n",
    "    #threshold is considered to be part of an object\n",
    "#The objects detected will be returned as an array\n",
    "objects = sep.extract(data_sub, 1.5, err=bkg.globalrms)"
   ]
  },
  {
   "cell_type": "markdown",
   "id": "9912d373",
   "metadata": {},
   "source": [
    "This cell confirms that the number of objects detected is equal to the length of the array returned by \"extract\" function."
   ]
  },
  {
   "cell_type": "code",
   "execution_count": null,
   "id": "c9ee2939",
   "metadata": {},
   "outputs": [],
   "source": [
    "# how many objects were detected\n",
    "print(\"Number of objects detected:\",len(objects))"
   ]
  },
  {
   "cell_type": "markdown",
   "id": "597fd859",
   "metadata": {},
   "source": [
    "Now that the objects have been detected within the image, they can be visually highlighted with ellipses. This makes it easier to locate where these objects are on the image itself.\n",
    "\n",
    "First, we need to import the ellipse-shaped patch to be superimposed over the image. \n",
    "\n",
    "Note that we plot the background-subtracted image as opposed to the original. This is because the background-subtracted version was used to find the objects. "
   ]
  },
  {
   "cell_type": "code",
   "execution_count": null,
   "id": "f916ae91",
   "metadata": {},
   "outputs": [],
   "source": [
    "from matplotlib.patches import Ellipse\n",
    "\n",
    "# plot background-subtracted image\n",
    "\n",
    "#we use subplots because we are going to place a plot of ellipses\n",
    "#over the image plot so that they overlap. Together, this indicates\n",
    "#where the objects are visually. \n",
    "fig, ax = plt.subplots()\n",
    "\n",
    "#m is the average value of the data_sub array\n",
    "#s is the standard deviation of the data set from the average\n",
    "m, s = np.mean(data_sub), np.std(data_sub)\n",
    "\n",
    "#this plots the data_sub image first\n",
    "    #interpolation='nearest' makes sure that the pixels are plotted individually and \n",
    "        #not artificially adjusted to increase the resolution of the display\n",
    "    #cmap='gray' colors the plot as a grayscale color scheme\n",
    "    #vmin is the minimum variability\n",
    "    #vmax is the maximum variability\n",
    "    #origin='lower' tells the plotting of data to begin from the bottom left\n",
    "im = ax.imshow(data_sub, interpolation='nearest', cmap='gray',\n",
    "               vmin=m-s, vmax=m+s, origin='lower')\n",
    "\n",
    "# plot an ellipse for each object\n",
    "#i will iterate from 0 to 67 since len(objects)=68\n",
    "for i in range(len(objects)):\n",
    "    #xy are the coordinates of the ellipse center, which are given by the\n",
    "        #ith terms of the x and y centroid coordinates\n",
    "    #the width is the horizontal diameter, scaled by 6\n",
    "    #the height is the vertical diameter, scaled by 6\n",
    "    #the angle rotates the ellipse by 180/pi\n",
    "    e = Ellipse(xy=(objects['x'][i], objects['y'][i]),\n",
    "                width=6*objects['a'][i],\n",
    "                height=6*objects['b'][i],\n",
    "                angle=objects['theta'][i] * 180. / np.pi)\n",
    "    \n",
    "    e.set_facecolor('none') #this makes the ellipse an empty outline without shading inside\n",
    "    e.set_edgecolor('red')  #this makes the ellipse outline red\n",
    "    \n",
    "    #this updates the plot with the newly oriented ellipse to indicate the ith object \n",
    "    #on the data-subtracted image\n",
    "    #ellipses are added starting at the bottom left\n",
    "    ax.add_artist(e)\n",
    "\n",
    "#Saving the object search plot as a png\n",
    "#plt.savefig('tutorial_img_4.png',bbox_inches=\"tight\",dpi=600)\n"
   ]
  },
  {
   "cell_type": "markdown",
   "id": "4df60215",
   "metadata": {},
   "source": [
    "This cell serves to show all the additional data analysis functions that can be used on the array object (contains number of objects detected in image and where they are located). For example, we can find the minimum and maximum coordinates of pixels within the object array using (xmin,ymin) and (xmax,ymax). Further information on these parameters can be found at the bottom of the page here: https://sep.readthedocs.io/en/v1.0.x/api/sep.extract.html"
   ]
  },
  {
   "cell_type": "code",
   "execution_count": null,
   "id": "8ed5cc16",
   "metadata": {},
   "outputs": [],
   "source": [
    "# available fields\n",
    "objects.dtype.names"
   ]
  },
  {
   "cell_type": "markdown",
   "id": "16adcad3",
   "metadata": {},
   "source": [
    "# Aperture photometry"
   ]
  },
  {
   "cell_type": "markdown",
   "id": "c9893d4c",
   "metadata": {},
   "source": [
    "Aperture photometry finds the fluctuation between pixels in a circle within a certain radius and the surrounding pixels just outside of that circle. The following cell finds the fluctuation between pixels for the previously detected objects.\n",
    "\n",
    "The function sum_circle sums up the pixels within the given circle, calculates the error, and gives an array of flags.The general form of the sum_circle function can be found on https://sep.readthedocs.io/en/v1.0.x/api/sep.sum_circle.html and is as follows: \n",
    "\n",
    "sep.sum_circle(data, x, y, r, err=None, var=None, mask=None, maskthresh=0.0, bkgann=None, gain=None, subpix=5)"
   ]
  },
  {
   "cell_type": "code",
   "execution_count": null,
   "id": "3f938b7f",
   "metadata": {},
   "outputs": [],
   "source": [
    "#flux, fluxerr, and flag will all be arrays\n",
    "#data_sub is the array to be operated on\n",
    "#object['x'] is the x centroid coordinate of a given circle\n",
    "#object['y'] is the y centroid coordinate of a given circle\n",
    "#2.0 is radius, aka 2 pixels (changed from previous 3 to remove negative fluxes)\n",
    "#err=bkg.globalrms sets the error to be the constant noise (a float)\n",
    "#gain=1.0 accounts for poisson noise in aperture sum\n",
    "flux, fluxerr, flag = sep.sum_circle(data_sub, objects['x'], objects['y'],\n",
    "                                     2.0, err=bkg.globalrms, gain=1.0)"
   ]
  },
  {
   "cell_type": "markdown",
   "id": "dc797ecd",
   "metadata": {},
   "source": [
    "This cells prints out the first 10 objects results (out of 68) calculated in the previous cell by sum_circle. "
   ]
  },
  {
   "cell_type": "code",
   "execution_count": null,
   "id": "e4e71d40",
   "metadata": {},
   "outputs": [],
   "source": [
    "# show the first 10 objects results:\n",
    "for i in range(10):\n",
    "    print(\"object {:d}: flux = {:f} +/- {:f}\".format(i, flux[i], fluxerr[i]))"
   ]
  },
  {
   "cell_type": "markdown",
   "id": "7ce04f16",
   "metadata": {},
   "source": [
    "# Histogram the fluxes"
   ]
  },
  {
   "cell_type": "code",
   "execution_count": null,
   "id": "ba8dfe2d",
   "metadata": {},
   "outputs": [],
   "source": [
    "#from astropy, plot histogram with matplot, cast data from a 2d array\n",
    "#zoomed in on the range [-0.25,0.25]\n",
    "histogram = plt.hist(flux.flatten(),bins='auto',range=[-0.25,0.25])"
   ]
  },
  {
   "cell_type": "markdown",
   "id": "7d4e47b5",
   "metadata": {},
   "source": [
    "## Converting flux to AB magnitude - Fenix and Neil\n",
    "Discussion section 12/2/21 3:20-4:25pm"
   ]
  },
  {
   "cell_type": "code",
   "execution_count": null,
   "id": "4da18097",
   "metadata": {},
   "outputs": [],
   "source": [
    "#looking for zeropoint in the wide field camera 3\n",
    "#zero point for wfc3 in 3012 - 26.2687\n",
    "ABMag = -2.5*np.log10(flux) - 26.2687\n",
    "for i in range(10):\n",
    "    print(\"object {:d}: flux = {:f}\".format(i, ABMag[i]))\n"
   ]
  },
  {
   "cell_type": "code",
   "execution_count": null,
   "id": "f1821845",
   "metadata": {},
   "outputs": [],
   "source": [
    "histogram = plt.hist(ABMag.flatten(),bins='auto',range=[-30,-20])"
   ]
  },
  {
   "cell_type": "code",
   "execution_count": null,
   "id": "1fa1594a",
   "metadata": {},
   "outputs": [],
   "source": []
  }
 ],
 "metadata": {
  "kernelspec": {
   "display_name": "Python 3 (ipykernel)",
   "language": "python",
   "name": "python3"
  },
  "language_info": {
   "codemirror_mode": {
    "name": "ipython",
    "version": 3
   },
   "file_extension": ".py",
   "mimetype": "text/x-python",
   "name": "python",
   "nbconvert_exporter": "python",
   "pygments_lexer": "ipython3",
   "version": "3.9.7"
  }
 },
 "nbformat": 4,
 "nbformat_minor": 5
}

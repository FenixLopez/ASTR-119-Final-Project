{
 "cells": [
  {
   "cell_type": "markdown",
   "id": "cf34089c",
   "metadata": {},
   "source": [
    "Neil and Fenix worked on this (along with other aspects of final) together in the computer lab\n",
    "12/5/2021 - 2:00-6:00pm"
   ]
  },
  {
   "cell_type": "code",
   "execution_count": null,
   "id": "e63c2dc8",
   "metadata": {},
   "outputs": [],
   "source": [
    "#Importing important libraries\n",
    "%matplotlib inline\n",
    "import matplotlib.pyplot as plt\n",
    "import matplotlib.colors as colors\n",
    "import numpy as np\n",
    "import sep\n",
    "import astropy\n",
    "from astropy.io import fits\n",
    "from matplotlib import rcParams\n",
    "rcParams['figure.figsize'] = [10., 8.]"
   ]
  },
  {
   "cell_type": "code",
   "execution_count": null,
   "id": "55d5315a",
   "metadata": {},
   "outputs": [],
   "source": [
    "#Opening the 3 fits files\n",
    "hdu_list_1 = fits.open(\"hlsp_hudf12_hst_wfc3ir_udfmain_f105w_v1.0_drz.fits\")\n",
    "hdu_list_2 = fits.open(\"hlsp_hudf12_hst_wfc3ir_udfmain_f125w_v1.0_drz.fits\")\n",
    "hdu_list_3 = fits.open(\"hlsp_hudf12_hst_wfc3ir_udfmain_f160w_v1.0_drz.fits\")\n",
    "\n",
    "#print(hdu_list[0].header)\n",
    "\n",
    "#Printing out information about the 3 images\n",
    "#Image 1\n",
    "hdu_list_1.info()\n",
    "image_data_1 = hdu_list_1[0].data #Initialized variable with image array\n",
    "image_data_1 = image_data_1.byteswap().newbyteorder()  #NOT NEEDED IF NOT USING SEP?\n",
    "print(image_data_1.shape)\n",
    "\n",
    "\n",
    "#Image 2\n",
    "hdu_list_2.info()\n",
    "image_data_2 = hdu_list_2[0].data\n",
    "image_data_2 = image_data_2.byteswap().newbyteorder()\n",
    "print(image_data_2.shape)\n",
    "print(image_data_2)\n",
    "\n",
    "#Image 3\n",
    "hdu_list_3.info()\n",
    "image_data_3 = hdu_list_3[0].data\n",
    "image_data_3 = image_data_3.byteswap().newbyteorder()\n",
    "print(image_data_3.shape)\n",
    "\n",
    "#dont think we need to reshape, all (3600,3600)"
   ]
  },
  {
   "cell_type": "code",
   "execution_count": null,
   "id": "ffba44ca",
   "metadata": {},
   "outputs": [],
   "source": [
    "#Showing the original images\n",
    "m_1, s_1 = np.mean(image_data_1), np.std(image_data_1)\n",
    "m_2, s_2 = np.mean(image_data_2), np.std(image_data_2)\n",
    "m_3, s_3 = np.mean(image_data_3), np.std(image_data_3)\n",
    "\n",
    "f, ax = plt.subplots(1,3,figsize=(21,7))\n",
    "ax[0].imshow(image_data_1, interpolation='nearest', cmap='gray', vmin=m_1-s_1, vmax=m_1+s_1, origin='lower')  #value\n",
    "ax[1].imshow(image_data_2, interpolation='nearest', cmap='gray', vmin=m_2-s_2, vmax=m_2+s_2, origin='lower')  #hue\n",
    "ax[2].imshow(image_data_3, interpolation='nearest', cmap='gray', vmin=m_3-s_3, vmax=m_3+s_3, origin='lower')  #saturation\n"
   ]
  },
  {
   "cell_type": "code",
   "execution_count": null,
   "id": "e93a5a8b",
   "metadata": {},
   "outputs": [],
   "source": [
    "#Calculating background\n",
    "bkg_1 = sep.Background(image_data_1)\n",
    "bkg_2 = sep.Background(image_data_2)\n",
    "bkg_3 = sep.Background(image_data_3)\n",
    "\n",
    "#Background subtracted images\n",
    "# subtract the background\n",
    "data_sub_1 = image_data_1 - bkg_1\n",
    "data_sub_2 = image_data_2 - bkg_2\n",
    "data_sub_3 = image_data_3 - bkg_3\n",
    "print(data_sub_2)\n",
    "\n",
    "#Showing the background subtracted images\n",
    "m_1, s_1 = np.mean(data_sub_1), np.std(data_sub_1)\n",
    "m_2, s_2 = np.mean(data_sub_2), np.std(data_sub_2)\n",
    "m_3, s_3 = np.mean(data_sub_3), np.std(data_sub_3)\n",
    "\n",
    "f, ax = plt.subplots(1,3,figsize=(21,7))\n",
    "ax[0].imshow(data_sub_1, interpolation='nearest', cmap='gray', vmin=m_1-s_1, vmax=m_1+s_1, origin='lower')  #value\n",
    "ax[1].imshow(data_sub_2, interpolation='nearest', cmap='gray', vmin=m_2-s_2, vmax=m_2+s_2, origin='lower')  #hue\n",
    "ax[2].imshow(data_sub_3, interpolation='nearest', cmap='gray', vmin=m_3-s_3, vmax=m_3+s_3, origin='lower')  #saturation\n"
   ]
  },
  {
   "cell_type": "code",
   "execution_count": null,
   "id": "8d803ccc",
   "metadata": {},
   "outputs": [],
   "source": [
    "#attempt at compressing the range of data to scale from 0 to 1\n",
    "#not working\n",
    "\n",
    "#Data Sub 1\n",
    "print(data_sub_1)\n",
    "ds1_min = min(data_sub_1)\n",
    "print(ds1_min)\n",
    "ds1_max = min(data_sub_2)\n",
    "print(ds1_max)\n",
    "NewMin = 0\n",
    "NewMax = 1\n",
    "OldRange = (ds1_max - ds1_min)  \n",
    "NewRange = (NewMax - NewMin)  \n",
    "NewDS1 = (((data_sub_1 - ds1_min) * NewRange) / OldRange) + NewMin\n",
    "print(NewDS1)"
   ]
  },
  {
   "cell_type": "code",
   "execution_count": null,
   "id": "50371789",
   "metadata": {},
   "outputs": [],
   "source": [
    "hsv_image = np.zeros((3600,3600,3))\n",
    "\n",
    "hsv_image[:,:,0] = data_sub_1    #image_data_1\n",
    "hsv_image[:,:,1] = data_sub_2    #image_data_2\n",
    "hsv_image[:,:,2] = data_sub_3    #image_data_3\n",
    "\n",
    "rgb_image = colors.hsv_to_rgb(hsv_image)"
   ]
  },
  {
   "cell_type": "code",
   "execution_count": null,
   "id": "2cd6ca67",
   "metadata": {},
   "outputs": [],
   "source": [
    "f = plt.figure(figsize=(7,7))\n",
    "plt.imshow(rgb_image,cmap='gray',origin='lower')"
   ]
  },
  {
   "cell_type": "markdown",
   "id": "986442ed",
   "metadata": {},
   "source": [
    "# All the cells below are BAD attempts"
   ]
  },
  {
   "cell_type": "code",
   "execution_count": null,
   "id": "b5def3c2",
   "metadata": {},
   "outputs": [],
   "source": [
    "#tried to use code from class and adapt to the 3 images\n",
    "d_min = data_sub_1.min()\n",
    "d_max = data_sub_1.max()\n",
    "f_min =data_sub_2.min()\n",
    "f_max = data_sub_2.max()\n",
    "\n",
    "\n",
    "v = (data_sub_1 - d_min)/(d_max-d_min)\n",
    "print(v)\n",
    "s= 1.0 - (data_sub_2 -f_min)/(f_max-f_min)\n",
    "print(s)"
   ]
  },
  {
   "cell_type": "code",
   "execution_count": null,
   "id": "7791c925",
   "metadata": {},
   "outputs": [],
   "source": [
    "print(data_sub_3)\n",
    "e_min = data_sub_3.min()\n",
    "print(e_min)\n",
    "e_max = data_sub_3.max()\n",
    "print(e_max)\n",
    "\n",
    "h = 0.8 - 0.2*(data_sub_3 - e_min)/(e_max-e_min) \n",
    "print(h)"
   ]
  },
  {
   "cell_type": "code",
   "execution_count": null,
   "id": "20bff5ae",
   "metadata": {},
   "outputs": [],
   "source": [
    "f, ax = plt.subplots(1,3,figsize=(14,7))\n",
    "ax[0].imshow(v)  #value\n",
    "ax[1].imshow(h)   #hue\n",
    "ax[2].imshow(s)  #saturation"
   ]
  },
  {
   "cell_type": "code",
   "execution_count": null,
   "id": "a77abdca",
   "metadata": {},
   "outputs": [],
   "source": [
    "#tried to take log to scale values between 0 and 1, does not work for these arrays\n",
    "#since it involved dividing by zero\n",
    "I1_log = np.log10(data_sub_1)  \n",
    "I2_log = np.log10(data_sub_2) \n",
    "I3_log = np.log10(data_sub_3) "
   ]
  },
  {
   "cell_type": "code",
   "execution_count": null,
   "id": "0f34adf3",
   "metadata": {},
   "outputs": [],
   "source": [
    "f, ax = plt.subplots(1,3,figsize=(14,7))\n",
    "ax[0].imshow(I1_log, interpolation='nearest', origin='lower')  #value\n",
    "ax[1].imshow(I2_log, interpolation='nearest', origin='lower')  #hue\n",
    "ax[2].imshow(I3_log, interpolation='nearest', origin='lower')  #saturation\n"
   ]
  },
  {
   "cell_type": "code",
   "execution_count": null,
   "id": "19dcc28b",
   "metadata": {},
   "outputs": [],
   "source": [
    "f, ax = plt.subplots(1,3,figsize=(14,7))\n",
    "ax[0].imshow(I1_log,origin='lower')  #value\n",
    "ax[1].imshow(I2_log,origin='lower') #hue\n",
    "ax[2].imshow(I3_log,origin='lower')  #saturation"
   ]
  },
  {
   "cell_type": "code",
   "execution_count": null,
   "id": "a314cbf1",
   "metadata": {},
   "outputs": [],
   "source": []
  },
  {
   "cell_type": "code",
   "execution_count": null,
   "id": "dbdf492a",
   "metadata": {},
   "outputs": [],
   "source": [
    "#MAY NOT NEED THESE 3\n",
    "\n",
    "\n",
    "#d_min = I1_log.min()\n",
    "#d_max = I1_log.max()\n",
    "\n",
    "#v = (I1_log - d_min)/(d_max-d_min)\n",
    "#s= 1.0 - (I2_log - d_min)/(d_max-d_min)"
   ]
  },
  {
   "cell_type": "code",
   "execution_count": null,
   "id": "4aaa01b8",
   "metadata": {},
   "outputs": [],
   "source": [
    "#e_min = I3_log.min()\n",
    "#print(e_min)\n",
    "#e_max = I3_log.max()\n",
    "#print(e_max)\n",
    "\n",
    "#h = 0.8 - 0.2*(I3_log - e_min)/(e_max-e_min) "
   ]
  },
  {
   "cell_type": "code",
   "execution_count": null,
   "id": "478f377d",
   "metadata": {},
   "outputs": [],
   "source": [
    "#f, ax = plt.subplots(1,3,figsize=(14,7))\n",
    "#ax[0].imshow(image_data_1)  #value\n",
    "#ax[1].imshow()   #hue\n",
    "#ax[2].imshow(s)  #saturation"
   ]
  },
  {
   "cell_type": "code",
   "execution_count": null,
   "id": "6bb954c2",
   "metadata": {},
   "outputs": [],
   "source": [
    "#plotting the logarithmic\n",
    "hsv_image_2 = np.zeros((3600,3600,3))\n",
    "\n",
    "hsv_image[:,:,0] = I1_log\n",
    "hsv_image[:,:,1] = I2_log\n",
    "hsv_image[:,:,2] = I3_log\n",
    "\n",
    "rgb_image_2 = colors.hsv_to_rgb(hsv_image_2)"
   ]
  },
  {
   "cell_type": "code",
   "execution_count": null,
   "id": "a4c2b91f",
   "metadata": {},
   "outputs": [],
   "source": [
    "f = plt.figure(figsize=(7,7))\n",
    "plt.imshow(rgb_image_2)"
   ]
  },
  {
   "cell_type": "code",
   "execution_count": null,
   "id": "e5420727",
   "metadata": {},
   "outputs": [],
   "source": []
  }
 ],
 "metadata": {
  "kernelspec": {
   "display_name": "Python 3 (ipykernel)",
   "language": "python",
   "name": "python3"
  },
  "language_info": {
   "codemirror_mode": {
    "name": "ipython",
    "version": 3
   },
   "file_extension": ".py",
   "mimetype": "text/x-python",
   "name": "python",
   "nbconvert_exporter": "python",
   "pygments_lexer": "ipython3",
   "version": "3.9.7"
  }
 },
 "nbformat": 4,
 "nbformat_minor": 5
}

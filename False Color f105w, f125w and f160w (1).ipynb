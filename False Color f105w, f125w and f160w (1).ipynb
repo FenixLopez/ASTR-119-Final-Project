{
 "cells": [
  {
   "cell_type": "markdown",
   "id": "96278578",
   "metadata": {},
   "source": [
    "Neil and Fenix worked on this (along with other aspects of final) together in the computer lab\n",
    "12/5/2021 - 2:00-6:00pm\n",
    "\n",
    "Fenix's version"
   ]
  },
  {
   "cell_type": "code",
   "execution_count": null,
   "id": "c0b82ba1",
   "metadata": {},
   "outputs": [],
   "source": [
    "#Importing important libraries\n",
    "%matplotlib inline\n",
    "import matplotlib.pyplot as plt\n",
    "import matplotlib.colors as colors\n",
    "import numpy as np\n",
    "import sep\n",
    "import astropy\n",
    "from astropy.io import fits\n",
    "from matplotlib import rcParams\n",
    "rcParams['figure.figsize'] = [10., 8.]"
   ]
  },
  {
   "cell_type": "code",
   "execution_count": null,
   "id": "98c1df1c",
   "metadata": {},
   "outputs": [],
   "source": [
    "#Opening the 3 fits files\n",
    "hdu_list_1 = fits.open(\"hlsp_hudf12_hst_wfc3ir_udfmain_f105w_v1.0_drz.fits\")\n",
    "hdu_list_2 = fits.open(\"hlsp_hudf12_hst_wfc3ir_udfmain_f125w_v1.0_drz.fits\")\n",
    "hdu_list_3 = fits.open(\"hlsp_hudf12_hst_wfc3ir_udfmain_f160w_v1.0_drz.fits\")\n",
    "\n",
    "#print(hdu_list[0].header)\n",
    "\n",
    "#Printing out information about the 3 images\n",
    "#Image 1\n",
    "hdu_list_1.info()\n",
    "image_data_1 = hdu_list_1[0].data #Initialized variable with image array\n",
    "image_data_1 = image_data_1.byteswap().newbyteorder()  #NOT NEEDED IF NOT USING SEP?\n",
    "print(image_data_1.shape)\n",
    "\n",
    "\n",
    "#Image 2\n",
    "hdu_list_2.info()\n",
    "image_data_2 = hdu_list_2[0].data\n",
    "image_data_2 = image_data_2.byteswap().newbyteorder()\n",
    "print(image_data_2.shape)\n",
    "#print(image_data_2)\n",
    "\n",
    "#Image 3\n",
    "hdu_list_3.info()\n",
    "image_data_3 = hdu_list_3[0].data\n",
    "image_data_3 = image_data_3.byteswap().newbyteorder()\n",
    "print(image_data_3.shape)\n",
    "\n",
    "#dont think we need to reshape, all (3600,3600)"
   ]
  },
  {
   "cell_type": "code",
   "execution_count": null,
   "id": "b24c2a5e",
   "metadata": {},
   "outputs": [],
   "source": [
    "#Showing the original images\n",
    "m_1, s_1 = np.mean(image_data_1), np.std(image_data_1)\n",
    "m_2, s_2 = np.mean(image_data_2), np.std(image_data_2)\n",
    "m_3, s_3 = np.mean(image_data_3), np.std(image_data_3)\n",
    "\n",
    "f, ax = plt.subplots(1,3,figsize=(21,7))\n",
    "ax[0].imshow(image_data_1, interpolation='nearest', cmap='gray', vmin=m_1-s_1, vmax=m_1+s_1, origin='lower')  #value\n",
    "ax[1].imshow(image_data_2, interpolation='nearest', cmap='gray', vmin=m_2-s_2, vmax=m_2+s_2, origin='lower')  #hue\n",
    "ax[2].imshow(image_data_3, interpolation='nearest', cmap='gray', vmin=m_3-s_3, vmax=m_3+s_3, origin='lower')  #saturation\n"
   ]
  },
  {
   "cell_type": "code",
   "execution_count": null,
   "id": "9824f700",
   "metadata": {},
   "outputs": [],
   "source": [
    "#Calculating background\n",
    "bkg_1 = sep.Background(image_data_1)\n",
    "bkg_2 = sep.Background(image_data_2)\n",
    "bkg_3 = sep.Background(image_data_3)\n",
    "\n",
    "#Background subtracted images\n",
    "# subtract the background\n",
    "data_sub_1 = image_data_1 - bkg_1\n",
    "data_sub_2 = image_data_2 - bkg_2\n",
    "data_sub_3 = image_data_3 - bkg_3\n",
    "#print(data_sub_2)\n",
    "\n",
    "#Showing the background subtracted images\n",
    "m_1, s_1 = np.mean(data_sub_1), np.std(data_sub_1)\n",
    "m_2, s_2 = np.mean(data_sub_2), np.std(data_sub_2)\n",
    "m_3, s_3 = np.mean(data_sub_3), np.std(data_sub_3)\n",
    "\n",
    "#Plotting the images\n",
    "f, ax = plt.subplots(1,3,figsize=(21,7))\n",
    "ax[0].imshow(data_sub_1, interpolation='nearest', cmap='gray', vmin=m_1-s_1, vmax=m_1+s_1, origin='lower')  #value\n",
    "ax[1].imshow(data_sub_2, interpolation='nearest', cmap='gray', vmin=m_2-s_2, vmax=m_2+s_2, origin='lower')  #hue\n",
    "ax[2].imshow(data_sub_3, interpolation='nearest', cmap='gray', vmin=m_3-s_3, vmax=m_3+s_3, origin='lower')  #saturation\n"
   ]
  },
  {
   "cell_type": "code",
   "execution_count": null,
   "id": "e00c0b34",
   "metadata": {},
   "outputs": [],
   "source": [
    "#attempt at compressing the range of data to scale from 0 to 1 to meet rgb requirements\n",
    "#not working\n",
    "\n",
    "#Data Sub 1\n",
    "print(data_sub_1)\n",
    "ds1_min = np.min(data_sub_1)\n",
    "#print(min(data_sub_1.flatten()))  - tried another way\n",
    "print(ds1_min)      #the array seems to have smaller numbers than this minimum?\n",
    "ds1_max = np.min(data_sub_2)\n",
    "print(ds1_max)\n",
    "NewMin = 0\n",
    "NewMax = 1\n",
    "OldRange = (ds1_max - ds1_min)  \n",
    "NewRange = (NewMax - NewMin)  \n",
    "NewDS1 = (((data_sub_1 - ds1_min) * NewRange) / OldRange) + NewMin\n",
    "print(NewDS1)"
   ]
  },
  {
   "cell_type": "code",
   "execution_count": null,
   "id": "1af17386",
   "metadata": {},
   "outputs": [],
   "source": [
    "#Setting each background-subtracted image to a subarray in hsv image\n",
    "#This is without adjusting the range of values\n",
    "hsv_image = np.zeros((3600,3600,3))\n",
    "\n",
    "hsv_image[:,:,0] = data_sub_1    #image_data_1\n",
    "hsv_image[:,:,1] = data_sub_2    #image_data_2\n",
    "hsv_image[:,:,2] = data_sub_3    #image_data_3\n",
    "\n",
    "#Converting to rgb_image\n",
    "#This would work better if the image array ranges could be adjusted\n",
    "rgb_image = colors.hsv_to_rgb(hsv_image)"
   ]
  },
  {
   "cell_type": "code",
   "execution_count": null,
   "id": "bb2071bf",
   "metadata": {},
   "outputs": [],
   "source": [
    "#Plotting the rgb image\n",
    "f = plt.figure(figsize=(7,7))\n",
    "plt.imshow(rgb_image,interpolation='nearest',cmap='gray',origin='lower')\n",
    "\n",
    "#Saving the image as a png\n",
    "plt.savefig('false_color_image.png',bbox_inches=\"tight\",dpi=600)"
   ]
  },
  {
   "cell_type": "markdown",
   "id": "622f64a9",
   "metadata": {},
   "source": [
    "# All the cells below are BAD (but interesting) attempts"
   ]
  },
  {
   "cell_type": "code",
   "execution_count": null,
   "id": "acf33a65",
   "metadata": {},
   "outputs": [],
   "source": [
    "#tried to use code from class and adapt to the 3 images\n",
    "#does not work and creates single color plots\n",
    "d_min = data_sub_1.min()\n",
    "d_max = data_sub_1.max()\n",
    "f_min =data_sub_2.min()\n",
    "f_max = data_sub_2.max()\n",
    "\n",
    "\n",
    "v = (data_sub_1 - d_min)/(d_max-d_min)\n",
    "#print(v)\n",
    "s= 1.0 - (data_sub_2 -f_min)/(f_max-f_min)\n",
    "#print(s)\n",
    "\n",
    "#print(data_sub_3)\n",
    "e_min = data_sub_3.min()\n",
    "#print(e_min)\n",
    "e_max = data_sub_3.max()\n",
    "#print(e_max)\n",
    "\n",
    "h = 0.8 - 0.2*(data_sub_3 - e_min)/(e_max-e_min) \n",
    "#print(h)\n",
    "\n",
    "#plotting h,s,v separated\n",
    "f, ax = plt.subplots(1,3,figsize=(14,7))\n",
    "ax[0].imshow(v)  #value\n",
    "ax[1].imshow(h)   #hue\n",
    "ax[2].imshow(s)  #saturation"
   ]
  },
  {
   "cell_type": "code",
   "execution_count": null,
   "id": "e44cfdc3",
   "metadata": {},
   "outputs": [],
   "source": [
    "#tried to take log to scale values between 0 and 1, does not work for these arrays\n",
    "#since it involved dividing by zero\n",
    "\n",
    "#remove zero and negative values? doesnt work because lose arrays that are the same size and 2-dimensionality\n",
    "#ds1_positive = np.extract(data_sub_1>0,data_sub_1)\n",
    "#ds2_positive = np.extract(data_sub_2>0,data_sub_2)\n",
    "#ds3_positive = np.extract(data_sub_3>0,data_sub_3)\n",
    "\n",
    "I1_log = np.log10(data_sub_1)  \n",
    "#print(len(I1_log))\n",
    "\n",
    "I2_log = np.log10(data_sub_2) \n",
    "#print(len(I2_log))\n",
    "\n",
    "I3_log = np.log10(data_sub_3)\n",
    "#print(len(I3_log))\n",
    "\n",
    "#We do get some very fun psychedelic plots XD\n",
    "f, ax = plt.subplots(1,3,figsize=(14,7))\n",
    "ax[0].imshow(I1_log, interpolation='nearest', origin='lower')  #value\n",
    "ax[1].imshow(I2_log, interpolation='nearest', origin='lower')  #hue\n",
    "ax[2].imshow(I3_log, interpolation='nearest', origin='lower')  #saturation"
   ]
  },
  {
   "cell_type": "code",
   "execution_count": null,
   "id": "c792c5ee",
   "metadata": {},
   "outputs": [],
   "source": [
    "#Plotting the logarithmic again without interpolation\n",
    "f, ax = plt.subplots(1,3,figsize=(14,7))\n",
    "ax[0].imshow(I1_log,origin='lower')  #value\n",
    "ax[1].imshow(I2_log,origin='lower') #hue\n",
    "ax[2].imshow(I3_log,origin='lower')  #saturation"
   ]
  },
  {
   "cell_type": "code",
   "execution_count": null,
   "id": "f768bb8d",
   "metadata": {},
   "outputs": [],
   "source": [
    "#Does not work\n",
    "#Setting the logarithmic attempt to h,s,v\n",
    "hsv_image_2 = np.zeros((3600,3600,3))\n",
    "\n",
    "hsv_image_2[:,:,0] = I1_log\n",
    "hsv_image_2[:,:,1] = I2_log\n",
    "hsv_image_2[:,:,2] = I3_log\n",
    "\n",
    "#Converting this to rgb\n",
    "rgb_image_2 = colors.hsv_to_rgb(hsv_image_2)\n",
    "\n",
    "#Plotting the rgb image - it shows nothing :( (all black)\n",
    "f = plt.figure(figsize=(7,7))\n",
    "plt.imshow(rgb_image_2)"
   ]
  }
 ],
 "metadata": {
  "kernelspec": {
   "display_name": "Python 3 (ipykernel)",
   "language": "python",
   "name": "python3"
  },
  "language_info": {
   "codemirror_mode": {
    "name": "ipython",
    "version": 3
   },
   "file_extension": ".py",
   "mimetype": "text/x-python",
   "name": "python",
   "nbconvert_exporter": "python",
   "pygments_lexer": "ipython3",
   "version": "3.9.7"
  }
 },
 "nbformat": 4,
 "nbformat_minor": 5
}
